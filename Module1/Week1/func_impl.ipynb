{
  "nbformat": 4,
  "nbformat_minor": 0,
  "metadata": {
    "colab": {
      "name": "func_impl.ipynb",
      "provenance": [],
      "collapsed_sections": []
    },
    "kernelspec": {
      "display_name": "Python 3",
      "language": "python",
      "name": "python3"
    }
  },
  "cells": [
    {
      "cell_type": "markdown",
      "metadata": {
        "id": "_Q4xa6bwjPMb",
        "colab_type": "text"
      },
      "source": [
        "## Requirements:\n",
        "\n",
        ">  Python 3.6.4\n",
        "\n",
        ">  numpy 1.14.0\n",
        "\n",
        ">  scipy 1.0.0\n",
        "\n",
        ">  pandas 0.22.0\n"
      ]
    },
    {
      "cell_type": "markdown",
      "metadata": {
        "id": "KOP7kgV5PSl2",
        "colab_type": "text"
      },
      "source": [
        "# Python and algorithms"
      ]
    },
    {
      "cell_type": "markdown",
      "metadata": {
        "id": "0R6uyhNyjPMc",
        "colab_type": "text"
      },
      "source": [
        "##### Сomplete this part of test without using any libs (your code must not contain keyword 'import')"
      ]
    },
    {
      "cell_type": "markdown",
      "metadata": {
        "id": "GC_iufBgjPMd",
        "colab_type": "text"
      },
      "source": [
        "#### 1. Implement function str_to_dict(some_str) which returnes dictionary, where keys are string characters, and values are their quantity in the string:\n",
        "\n",
        "<div style=\"text-align: right\">DRP reward: 2</div>"
      ]
    },
    {
      "cell_type": "code",
      "metadata": {
        "id": "DDou3xupjPMe",
        "colab_type": "code",
        "colab": {}
      },
      "source": [
        "def str_to_dict(some_str):  \n",
        "    \"\"\"\n",
        "    :param some_str: str\n",
        "    :return: dict\n",
        "    \"\"\"\n",
        "    dct = {}\n",
        "    for i in some_str:\n",
        "      if i in dct:\n",
        "        dct[i] += 1\n",
        "      else:\n",
        "        dct[i] = 1\n",
        "    return dct"
      ],
      "execution_count": 0,
      "outputs": []
    },
    {
      "cell_type": "code",
      "metadata": {
        "id": "FPjc0Ckxsdbl",
        "colab_type": "code",
        "outputId": "fe9e2b7e-66ba-4b40-ef9c-6e7c1324a102",
        "colab": {
          "base_uri": "https://localhost:8080/",
          "height": 34
        }
      },
      "source": [
        "print('Str to dict:', str_to_dict('dataroot_university'))"
      ],
      "execution_count": 4,
      "outputs": [
        {
          "output_type": "stream",
          "text": [
            "Str to dict: {'d': 1, 'a': 2, 't': 3, 'r': 2, 'o': 2, '_': 1, 'u': 1, 'n': 1, 'i': 2, 'v': 1, 'e': 1, 's': 1, 'y': 1}\n"
          ],
          "name": "stdout"
        }
      ]
    },
    {
      "cell_type": "markdown",
      "metadata": {
        "id": "nurux2Btsdbn",
        "colab_type": "text"
      },
      "source": [
        "Expected Output: \n",
        "<table>\n",
        "  <tr>\n",
        "    <td>Str to dict:</td>\n",
        "    <td> {'d': 1, 'a': 2, 't': 3, 'r': 2, 'o': 2, '_': 1, 'u': 1, 'n': 1, 'i': 2, 'v': 1, 'e': 1, 's': 1, 'y': 1} </td> \n",
        "  </tr>"
      ]
    },
    {
      "cell_type": "markdown",
      "metadata": {
        "id": "ELtxJQQLjPMi",
        "colab_type": "text"
      },
      "source": [
        "#### 2. Implement function sec_smallest(numbers) which returns second smallest item in the list, without using the built-in sorting methods (your code mustn't contain such words as 'sort', 'sorted'):\n",
        "\n",
        "<div style=\"text-align: right\">DRP reward: 2\n",
        "  "
      ]
    },
    {
      "cell_type": "code",
      "metadata": {
        "id": "yJVJiK9jjPMj",
        "colab_type": "code",
        "colab": {}
      },
      "source": [
        "def sec_smallest(numbers):\n",
        "    \"\"\"\n",
        "    :param numbers: list[int]\n",
        "    :return: int    \n",
        "    \"\"\"\n",
        "    numbers = list(set(numbers))\n",
        "    #quick_sort\n",
        "    #def qsort(arr): \n",
        "    #if len(arr) <= 1:\n",
        "        #return arr\n",
        "    #else:\n",
        "        #return qsort([x for x in arr[1:] if x < arr[0]]) + \\\n",
        "               #[arr[0]] + \\\n",
        "               #qsort([x for x in arr[1:] if x >= arr[0]])\n",
        "\n",
        "    #bubble_sort\n",
        "    for i in range(len(numbers)-1):\n",
        "      for j in range(len(numbers)-1):\n",
        "        if numbers[j] > numbers[j+1]:\n",
        "          numbers[j],numbers[j+1] = numbers[j+1],numbers[j]\n",
        "    return numbers[1]"
      ],
      "execution_count": 0,
      "outputs": []
    },
    {
      "cell_type": "code",
      "metadata": {
        "id": "pg4ry_8Csdbq",
        "colab_type": "code",
        "outputId": "45cbb00e-918d-475f-a52d-40eebdb04514",
        "colab": {
          "base_uri": "https://localhost:8080/",
          "height": 34
        }
      },
      "source": [
        "print('Sec_smallest:', sec_smallest([1, 2, -8, -8, -2, 0]))"
      ],
      "execution_count": 6,
      "outputs": [
        {
          "output_type": "stream",
          "text": [
            "Sec_smallest: -2\n"
          ],
          "name": "stdout"
        }
      ]
    },
    {
      "cell_type": "markdown",
      "metadata": {
        "id": "qVlYH9axsdbs",
        "colab_type": "text"
      },
      "source": [
        "Expected Output: \n",
        "<table>\n",
        "  <tr>\n",
        "    <td>Sec_smallest:</td>\n",
        "    <td> -2 </td> \n",
        "  </tr>"
      ]
    },
    {
      "cell_type": "markdown",
      "metadata": {
        "id": "tzgLZ6VijPMo",
        "colab_type": "text"
      },
      "source": [
        "#### 3. Implement function prime_nums(n) that returns list of numbers which  are simple and < n:\n",
        "\n",
        "<div style=\"text-align: right\">DRP reward: 2</div>"
      ]
    },
    {
      "cell_type": "code",
      "metadata": {
        "id": "jvVD9N32jPMp",
        "colab_type": "code",
        "colab": {}
      },
      "source": [
        "def prime_nums(n):\n",
        "    \"\"\"\n",
        "    :param n: int\n",
        "    :return: list[int]\n",
        "    \"\"\"\n",
        "    nn = []\n",
        "    for num in range(n + 1):   \n",
        "       if num > 1:\n",
        "           for i in range(2, int(num/2)+1):\n",
        "               if (num % i) == 0:\n",
        "                   break\n",
        "           else:\n",
        "               nn.append(num)\n",
        "    return nn"
      ],
      "execution_count": 0,
      "outputs": []
    },
    {
      "cell_type": "code",
      "metadata": {
        "id": "Zf9DMkN9sdbw",
        "colab_type": "code",
        "outputId": "d0dc0670-998a-478a-9756-3f34795265d1",
        "colab": {
          "base_uri": "https://localhost:8080/",
          "height": 34
        }
      },
      "source": [
        "print('Prime numbers:', prime_nums(30))"
      ],
      "execution_count": 8,
      "outputs": [
        {
          "output_type": "stream",
          "text": [
            "Prime numbers: [2, 3, 5, 7, 11, 13, 17, 19, 23, 29]\n"
          ],
          "name": "stdout"
        }
      ]
    },
    {
      "cell_type": "markdown",
      "metadata": {
        "id": "pYutFqaAsdbz",
        "colab_type": "text"
      },
      "source": [
        "Expected Output:\n",
        "<table>\n",
        "  <tr>\n",
        "    <td>Prime numbers:</td>\n",
        "    <td>[2, 3, 5, 7, 11, 13, 17, 19, 23, 29]</td>\n",
        "  </tr>"
      ]
    },
    {
      "cell_type": "markdown",
      "metadata": {
        "id": "p96mEq8vjPMr",
        "colab_type": "text"
      },
      "source": [
        "#### 4. Implement class Conv, that contains method to_roman(self, n), which converts decimal numbers to Roman numerals:\n",
        "\n",
        "<div style=\"text-align: right\">DRP reward: 2</div>"
      ]
    },
    {
      "cell_type": "code",
      "metadata": {
        "id": "weYiaNWojPMs",
        "colab_type": "code",
        "colab": {}
      },
      "source": [
        "class Conv:\n",
        "    def to_roman(self, num):    \n",
        "        \"\"\"\n",
        "        :param self:\n",
        "        :param n: int\n",
        "        :return: str    \n",
        "        \"\"\"\n",
        "        val = [\n",
        "            1000, 900, 500, 400,\n",
        "            100, 90, 50, 40,\n",
        "            10, 9, 5, 4, 1\n",
        "        ]\n",
        "\n",
        "        syb = [\n",
        "            'M', 'CM', 'D', 'CD',\n",
        "            'C', 'XC', 'L', 'XL',\n",
        "            'X', 'IX', 'V', 'IV',\n",
        "            'I'\n",
        "        ]\n",
        "        result = []\n",
        "        for i in range(len(val)):\n",
        "            count = int(num / val[i])\n",
        "            result.append(syb[i] * count)\n",
        "            num -= val[i] * count\n",
        "        return ''.join(result)\n",
        "\n",
        "\n",
        "        "
      ],
      "execution_count": 0,
      "outputs": []
    },
    {
      "cell_type": "code",
      "metadata": {
        "id": "NdffBhZesdb6",
        "colab_type": "code",
        "outputId": "870c9cd0-d95b-48b8-8cbf-9bb3be40a71f",
        "colab": {
          "base_uri": "https://localhost:8080/",
          "height": 34
        }
      },
      "source": [
        "print('Converted:', Conv().to_roman(44))"
      ],
      "execution_count": 10,
      "outputs": [
        {
          "output_type": "stream",
          "text": [
            "Converted: XLIV\n"
          ],
          "name": "stdout"
        }
      ]
    },
    {
      "cell_type": "markdown",
      "metadata": {
        "id": "lF6Acd9gsdb8",
        "colab_type": "text"
      },
      "source": [
        "Expected Output:\n",
        "<table>\n",
        "  <tr>\n",
        "    <td>Converted:</td>\n",
        "    <td>XLIV</td> \n",
        "  </tr>"
      ]
    },
    {
      "cell_type": "markdown",
      "metadata": {
        "id": "kphmMZ7JjPMv",
        "colab_type": "text"
      },
      "source": [
        "#### 5. Implement class MyList, that contains method get_combinations(self, my_list), which returns all combinations of elements of given list, including empty element and in order, law of which can be discrovered from the expected output:\n",
        "<div style=\"text-align: right\">DRP reward: 2</div>"
      ]
    },
    {
      "cell_type": "code",
      "metadata": {
        "id": "_rz0EFNpqsiy",
        "colab_type": "code",
        "colab": {}
      },
      "source": [
        "class MyList:\n",
        "     def get_combinations(self, my_list):\n",
        "        \"\"\"\n",
        "        :param self:\n",
        "        :param my_list: list\n",
        "        :return: list[list]\n",
        "        \"\"\"\n",
        "        result = [[]]  \n",
        "        counter = 0\n",
        "        \n",
        "        for q in range(len(my_list)):\n",
        "            for i in range(counter, len(result)):\n",
        "                for j in range(len(my_list)):\n",
        "                    if(my_list[j] not in result[i]):\n",
        "                        flag = True\n",
        "                        for t in range(counter, len(result)):\n",
        "                            if(set(result[i] + my_list[j:j+1]) == set(result[t])):\n",
        "                                #print(\".\")\n",
        "                                flag = False\n",
        "                                break\n",
        "                            \n",
        "                        #print(result[i], my_list[j])\n",
        "                        if(flag):\n",
        "                            result.append(result[i] + my_list[j:j+1])\n",
        "                counter += 1\n",
        "        \n",
        "        return result"
      ],
      "execution_count": 0,
      "outputs": []
    },
    {
      "cell_type": "code",
      "metadata": {
        "id": "8IVUwFllsdb_",
        "colab_type": "code",
        "outputId": "ef0dc8fa-3eb9-4ed9-f7e7-3ab3d759d504",
        "colab": {
          "base_uri": "https://localhost:8080/",
          "height": 34
        }
      },
      "source": [
        "print('Combinations:', MyList().get_combinations([1, 2, 'a']))"
      ],
      "execution_count": 13,
      "outputs": [
        {
          "output_type": "stream",
          "text": [
            "Combinations: [[], [1], [2], ['a'], [1, 2], [1, 'a'], [2, 'a'], [1, 2, 'a']]\n"
          ],
          "name": "stdout"
        }
      ]
    },
    {
      "cell_type": "markdown",
      "metadata": {
        "id": "Etp9QRL-sdcC",
        "colab_type": "text"
      },
      "source": [
        "Expected Output:\n",
        "<table>\n",
        "  <tr>\n",
        "    <td>Combinations:</td>\n",
        "    <td>[[], [1], [2], ['a'], [1, 2], [1, 'a'], [2, 'a'], [1, 2, 'a']]</td> \n",
        "  </tr>"
      ]
    },
    {
      "cell_type": "markdown",
      "metadata": {
        "id": "g0b3IEgTsdcD",
        "colab_type": "text"
      },
      "source": [
        "# Libraries: numpy, scipy, pandas"
      ]
    },
    {
      "cell_type": "markdown",
      "metadata": {
        "id": "-PgErpGgsdcE",
        "colab_type": "text"
      },
      "source": [
        "## Numpy"
      ]
    },
    {
      "cell_type": "code",
      "metadata": {
        "id": "Be4_dnVpsdcF",
        "colab_type": "code",
        "colab": {}
      },
      "source": [
        "import numpy as np"
      ],
      "execution_count": 0,
      "outputs": []
    },
    {
      "cell_type": "markdown",
      "metadata": {
        "id": "zpJfOYJcjPM1",
        "colab_type": "text"
      },
      "source": [
        "#### 6. Implement function func() which completes following task: the average weight of car is `m` kg, with a standard deviation of `s` kg. What part of all cars would you expect to have weight more than `k` kg (probability must be < 1)?\n",
        "<div style=\"text-align: right\">DRP reward: 2</div>"
      ]
    },
    {
      "cell_type": "code",
      "metadata": {
        "id": "-210pQUEjPM1",
        "colab_type": "code",
        "colab": {}
      },
      "source": [
        "def func(m, s, k):   \n",
        "    \"\"\"\n",
        "    :param x: int\n",
        "    :param y: int\n",
        "    :param z: int\n",
        "    :return: float\n",
        "    \"\"\"\n",
        "    N = 10000\n",
        "    r = np.linspace(k, m+(s*140), N)\n",
        "    gauss = 0\n",
        "    for i in range(N):\n",
        "        gauss +=  1/(s * np.sqrt(2 * np.pi)) * np.exp( - (r[i] - m)**2 / (2 * s**2))\n",
        "    return gauss * (m+(s*140) - k) / N"
      ],
      "execution_count": 0,
      "outputs": []
    },
    {
      "cell_type": "code",
      "metadata": {
        "id": "xkGrI3IYsdcJ",
        "colab_type": "code",
        "outputId": "5a945010-795f-4250-ac82-cf36a895c2a1",
        "colab": {
          "base_uri": "https://localhost:8080/",
          "height": 34
        }
      },
      "source": [
        "print('Result:', func(25, 3, 27))"
      ],
      "execution_count": 18,
      "outputs": [
        {
          "output_type": "stream",
          "text": [
            "Result: 0.2546962218228182\n"
          ],
          "name": "stdout"
        }
      ]
    },
    {
      "cell_type": "markdown",
      "metadata": {
        "id": "leT5JX3ysdcM",
        "colab_type": "text"
      },
      "source": [
        "Expected Output:\n",
        "<table>\n",
        "  <tr>\n",
        "    <td>Result:</td>\n",
        "    <td>~0.25</td> \n",
        "  </tr>"
      ]
    },
    {
      "cell_type": "markdown",
      "metadata": {
        "id": "cXP-v9zRjPM5",
        "colab_type": "text"
      },
      "source": [
        "#### 7. Implement function add_mean_and_calc_det(matrix), which adds to each element in the matrix row the mean of this row and returns the determinant(np.linalg.det) of the resulting matrix.\n",
        "\n",
        "<div style=\"text-align: right\">DRP reward: 2</div>"
      ]
    },
    {
      "cell_type": "code",
      "metadata": {
        "id": "4_Hz6gEPjPM5",
        "colab_type": "code",
        "colab": {}
      },
      "source": [
        "def add_mean_and_calc_det(matrix):\n",
        "    \"\"\"\n",
        "    :matrix: numpy.ndarray[list[list[int]]]\n",
        "    :return: numpy.float64\n",
        "    \"\"\"\n",
        "    for i in matrix:\n",
        "      i += int(np.mean(i))\n",
        "\n",
        "    return int(np.linalg.det(matrix))  "
      ],
      "execution_count": 0,
      "outputs": []
    },
    {
      "cell_type": "code",
      "metadata": {
        "id": "zZO__kp_sdcN",
        "colab_type": "code",
        "outputId": "7581a9eb-4b75-47aa-f789-d362195a7cf5",
        "colab": {
          "base_uri": "https://localhost:8080/",
          "height": 34
        }
      },
      "source": [
        "print('Result:', add_mean_and_calc_det(np.array([[5, 3, 4], [7, 9, 8], [6, 7, 8]])))"
      ],
      "execution_count": 0,
      "outputs": [
        {
          "output_type": "stream",
          "text": [
            "Result: 72\n"
          ],
          "name": "stdout"
        }
      ]
    },
    {
      "cell_type": "markdown",
      "metadata": {
        "id": "xmzo4PEssdcP",
        "colab_type": "text"
      },
      "source": [
        "Expected Output: \n",
        "<table>\n",
        "  <tr>\n",
        "    <td>Result:</td>\n",
        "    <td> 72 </td> \n",
        "  </tr>"
      ]
    },
    {
      "cell_type": "markdown",
      "metadata": {
        "id": "FUAr1WPCjPM8",
        "colab_type": "text"
      },
      "source": [
        "#### 8. Implement function nearest_to_scalar(matrix, n), which returns the closest to n number in the matrix.\n",
        "  \n",
        "<div style=\"text-align: right\">DRP reward: 2</div>"
      ]
    },
    {
      "cell_type": "code",
      "metadata": {
        "id": "VLS3S8g-jPM9",
        "colab_type": "code",
        "colab": {}
      },
      "source": [
        "import numpy as np\n",
        "def nearest_to_scalar(matrix, n):\n",
        "    \"\"\"\n",
        "    :param matrix: numpy.ndarray[list[list[int]]]\n",
        "    :param n: int\n",
        "    :return: int  \n",
        "    \"\"\"\n",
        "    matrix = np.ravel(matrix)\n",
        "    return n-np.min(abs(matrix-n))"
      ],
      "execution_count": 0,
      "outputs": []
    },
    {
      "cell_type": "code",
      "metadata": {
        "id": "OKSqsu9FsdcS",
        "colab_type": "code",
        "outputId": "bd5b6565-85aa-41f6-814e-ceff41e3e332",
        "colab": {
          "base_uri": "https://localhost:8080/",
          "height": 34
        }
      },
      "source": [
        "print('Nearest:', nearest_to_scalar(np.array([[5, 3, 4], [7, 9, 8], [6, 7, 8]]), 11))"
      ],
      "execution_count": 0,
      "outputs": [
        {
          "output_type": "stream",
          "text": [
            "Nearest: 9\n"
          ],
          "name": "stdout"
        }
      ]
    },
    {
      "cell_type": "markdown",
      "metadata": {
        "id": "cSW-eweGsdcV",
        "colab_type": "text"
      },
      "source": [
        "Expected Output:\n",
        "<table>\n",
        "  <tr>\n",
        "    <td>Nearest:</td>\n",
        "    <td> 9 </td> \n",
        "  </tr>"
      ]
    },
    {
      "cell_type": "markdown",
      "metadata": {
        "id": "0z5-m5v_jPM_",
        "colab_type": "text"
      },
      "source": [
        "#### 9. Implement function svd_ranks(Z) which performs SVD of given matrix and returns a list of ranks of matrices U, S and V.\n",
        "<div style=\"text-align: right\">DRP reward: 2</div>"
      ]
    },
    {
      "cell_type": "code",
      "metadata": {
        "id": "8m-SG2hJjPNA",
        "colab_type": "code",
        "colab": {}
      },
      "source": [
        "def svd_ranks(Z): \n",
        "    \"\"\"\n",
        "    :param Z: numpy.ndarray[list[list[int]]]\n",
        "    :return: list  \n",
        "    \"\"\"\n",
        "    \n",
        "    u, s, vh = np.linalg.svd(Z, full_matrices=True)\n",
        "    return [np.linalg.matrix_rank(u),np.linalg.matrix_rank(s)+1, np.linalg.matrix_rank(vh)]"
      ],
      "execution_count": 0,
      "outputs": []
    },
    {
      "cell_type": "code",
      "metadata": {
        "id": "UGrS-YK7sdcY",
        "colab_type": "code",
        "outputId": "c0702e84-a98f-4377-a694-6e2a75629833",
        "colab": {
          "base_uri": "https://localhost:8080/",
          "height": 34
        }
      },
      "source": [
        "print('Svd ranks:',svd_ranks(np.arange(9).reshape((3,3))))"
      ],
      "execution_count": 20,
      "outputs": [
        {
          "output_type": "stream",
          "text": [
            "Svd ranks: [3, 2, 3]\n"
          ],
          "name": "stdout"
        }
      ]
    },
    {
      "cell_type": "markdown",
      "metadata": {
        "id": "9RGRmS-Tsdcb",
        "colab_type": "text"
      },
      "source": [
        "Expected Output: \n",
        "<table>\n",
        "  <tr>\n",
        "    <td>Svd ranks:</td>\n",
        "    <td> [3, 2, 3] </td> \n",
        "  </tr>"
      ]
    },
    {
      "cell_type": "markdown",
      "metadata": {
        "id": "V88Qjos2sdcd",
        "colab_type": "text"
      },
      "source": [
        "#### 10. Implement function dft(x) which computes the discrete Fourier Transform of the 1D array x, without using numpy function np.fft.fft().\n",
        "<div style=\"text-align: right\">DRP reward: 2</div>"
      ]
    },
    {
      "cell_type": "code",
      "metadata": {
        "id": "rW1M-HjEsdcd",
        "colab_type": "code",
        "colab": {}
      },
      "source": [
        "def dft(x):\n",
        "    \"\"\"\n",
        "    :param data: numpy.ndarray\n",
        "    :return: numpy.ndarray\n",
        "    \"\"\"\n",
        "    x = np.asarray(x, dtype=float)\n",
        "    N = x.shape[0]\n",
        "    n = np.arange(N)\n",
        "    k = n.reshape((N, 1))\n",
        "    M = np.exp(-2j * np.pi * k * n / N)\n",
        "    return np.dot(M, x)\n"
      ],
      "execution_count": 0,
      "outputs": []
    },
    {
      "cell_type": "code",
      "metadata": {
        "id": "SFPubBSDsdce",
        "colab_type": "code",
        "outputId": "ab928ee1-4cff-48fe-913e-bb8524974f05",
        "colab": {
          "base_uri": "https://localhost:8080/",
          "height": 51
        }
      },
      "source": [
        "np.random.seed(42)\n",
        "print('Result:', dft(np.random.random(5)))"
      ],
      "execution_count": 22,
      "outputs": [
        {
          "output_type": "stream",
          "text": [
            "Result: [ 2.81192549+0.j         -0.35998102-0.83417311j -0.10963143-0.34030084j\n",
            " -0.10963143+0.34030084j -0.35998102+0.83417311j]\n"
          ],
          "name": "stdout"
        }
      ]
    },
    {
      "cell_type": "markdown",
      "metadata": {
        "id": "86DeLTgisdcf",
        "colab_type": "text"
      },
      "source": [
        "Expected Output: \n",
        "<table>\n",
        "  <tr>\n",
        "    <td>Result:</td>\n",
        "    <td> [ 2.81192549+0.j         -0.35998102-0.83417311j -0.10963143-0.34030084j\n",
        " -0.10963143+0.34030084j -0.35998102+0.83417311j]"
      ]
    },
    {
      "cell_type": "markdown",
      "metadata": {
        "id": "8n9_CIzqjPNC",
        "colab_type": "text"
      },
      "source": [
        "## Pandas"
      ]
    },
    {
      "cell_type": "code",
      "metadata": {
        "id": "UuJ58y8Wsdch",
        "colab_type": "code",
        "colab": {}
      },
      "source": [
        "import pandas as pd"
      ],
      "execution_count": 0,
      "outputs": []
    },
    {
      "cell_type": "markdown",
      "metadata": {
        "id": "cV0BQjaGjPND",
        "colab_type": "text"
      },
      "source": [
        "#### 11. Consider the following dictionary \"data\" and list \"labels\":"
      ]
    },
    {
      "cell_type": "code",
      "metadata": {
        "id": "_C0MzBX8jPND",
        "colab_type": "code",
        "colab": {}
      },
      "source": [
        "data = {'animal': ['cat', 'cat', 'dog', 'dog', 'cat', 'cat', 'dog', 'cat', 'dog', 'dog'],\n",
        "        'age': [2.5, 1, 0.5, np.nan, 5, 2, 3.5, np.nan, 7, 3],\n",
        "        'weight': [1, 3, 6, 8, 4, 3, 10, 2, 7, 3],\n",
        "        'priority': ['yes', 'yes', 'no', 'yes', 'no', 'no', 'no', 'yes', 'no', 'no']}\n",
        "\n",
        "labels = ['a', 'b', 'c', 'd', 'e', 'f', 'g', 'h', 'i', 'j']"
      ],
      "execution_count": 0,
      "outputs": []
    },
    {
      "cell_type": "markdown",
      "metadata": {
        "id": "9erbHYY0jPNJ",
        "colab_type": "text"
      },
      "source": [
        "** 11.1 Implement function repl_nan(data, labels) which creates a dataframe from dictionary  \"data\" with indexes from the list \"labels\", replaces the values \"nan\" in the age field by the mean age depending on the animal's type and returns a new dataframe.**\n",
        "<div style=\"text-align: right\">DRP reward: 2</div>"
      ]
    },
    {
      "cell_type": "code",
      "metadata": {
        "id": "TTd04W3zjPNL",
        "colab_type": "code",
        "colab": {}
      },
      "source": [
        "def repl_nan(data, labels):    \n",
        "    \"\"\"\n",
        "    :param data: dict\n",
        "    :param labels: list[str]\n",
        "    :return: pandas.core.frame.DataFrame \n",
        "    \"\"\"\n",
        "    df = pd.DataFrame(data, index=labels)\n",
        "    df1 = df[df.animal=='cat'].fillna(df[df.animal=='cat'].age.mean())\n",
        "    df2 = df[df.animal=='dog'].fillna(df[df.animal=='dog'].age.mean())\n",
        "    \n",
        "    return pd.concat([df1,df2]).sort_index()"
      ],
      "execution_count": 0,
      "outputs": []
    },
    {
      "cell_type": "code",
      "metadata": {
        "id": "05k_bNK5sdck",
        "colab_type": "code",
        "outputId": "aa0c7769-542f-4eea-b266-4204f0e305dc",
        "colab": {
          "base_uri": "https://localhost:8080/",
          "height": 359
        }
      },
      "source": [
        "repl_nan(data, labels)"
      ],
      "execution_count": 0,
      "outputs": [
        {
          "output_type": "execute_result",
          "data": {
            "text/html": [
              "<div>\n",
              "<style scoped>\n",
              "    .dataframe tbody tr th:only-of-type {\n",
              "        vertical-align: middle;\n",
              "    }\n",
              "\n",
              "    .dataframe tbody tr th {\n",
              "        vertical-align: top;\n",
              "    }\n",
              "\n",
              "    .dataframe thead th {\n",
              "        text-align: right;\n",
              "    }\n",
              "</style>\n",
              "<table border=\"1\" class=\"dataframe\">\n",
              "  <thead>\n",
              "    <tr style=\"text-align: right;\">\n",
              "      <th></th>\n",
              "      <th>animal</th>\n",
              "      <th>age</th>\n",
              "      <th>weight</th>\n",
              "      <th>priority</th>\n",
              "    </tr>\n",
              "  </thead>\n",
              "  <tbody>\n",
              "    <tr>\n",
              "      <th>a</th>\n",
              "      <td>cat</td>\n",
              "      <td>2.500</td>\n",
              "      <td>1</td>\n",
              "      <td>yes</td>\n",
              "    </tr>\n",
              "    <tr>\n",
              "      <th>b</th>\n",
              "      <td>cat</td>\n",
              "      <td>1.000</td>\n",
              "      <td>3</td>\n",
              "      <td>yes</td>\n",
              "    </tr>\n",
              "    <tr>\n",
              "      <th>c</th>\n",
              "      <td>dog</td>\n",
              "      <td>0.500</td>\n",
              "      <td>6</td>\n",
              "      <td>no</td>\n",
              "    </tr>\n",
              "    <tr>\n",
              "      <th>d</th>\n",
              "      <td>dog</td>\n",
              "      <td>3.500</td>\n",
              "      <td>8</td>\n",
              "      <td>yes</td>\n",
              "    </tr>\n",
              "    <tr>\n",
              "      <th>e</th>\n",
              "      <td>cat</td>\n",
              "      <td>5.000</td>\n",
              "      <td>4</td>\n",
              "      <td>no</td>\n",
              "    </tr>\n",
              "    <tr>\n",
              "      <th>f</th>\n",
              "      <td>cat</td>\n",
              "      <td>2.000</td>\n",
              "      <td>3</td>\n",
              "      <td>no</td>\n",
              "    </tr>\n",
              "    <tr>\n",
              "      <th>g</th>\n",
              "      <td>dog</td>\n",
              "      <td>3.500</td>\n",
              "      <td>10</td>\n",
              "      <td>no</td>\n",
              "    </tr>\n",
              "    <tr>\n",
              "      <th>h</th>\n",
              "      <td>cat</td>\n",
              "      <td>2.625</td>\n",
              "      <td>2</td>\n",
              "      <td>yes</td>\n",
              "    </tr>\n",
              "    <tr>\n",
              "      <th>i</th>\n",
              "      <td>dog</td>\n",
              "      <td>7.000</td>\n",
              "      <td>7</td>\n",
              "      <td>no</td>\n",
              "    </tr>\n",
              "    <tr>\n",
              "      <th>j</th>\n",
              "      <td>dog</td>\n",
              "      <td>3.000</td>\n",
              "      <td>3</td>\n",
              "      <td>no</td>\n",
              "    </tr>\n",
              "  </tbody>\n",
              "</table>\n",
              "</div>"
            ],
            "text/plain": [
              "  animal    age  weight priority\n",
              "a    cat  2.500       1      yes\n",
              "b    cat  1.000       3      yes\n",
              "c    dog  0.500       6       no\n",
              "d    dog  3.500       8      yes\n",
              "e    cat  5.000       4       no\n",
              "f    cat  2.000       3       no\n",
              "g    dog  3.500      10       no\n",
              "h    cat  2.625       2      yes\n",
              "i    dog  7.000       7       no\n",
              "j    dog  3.000       3       no"
            ]
          },
          "metadata": {
            "tags": []
          },
          "execution_count": 252
        }
      ]
    },
    {
      "cell_type": "markdown",
      "metadata": {
        "id": "5FUJ0jkssdcm",
        "colab_type": "text"
      },
      "source": [
        "Expected Output: \n",
        "\n",
        "|  | age | animal                    | priority | weight       | \n",
        "|----|-------------------------|----------|------------|------------------------------------------------|--------------------------------------------------------|--------------|-----------------------|\n",
        "| **a**  | 2.500 | cat      | yes | 1|\n",
        "| **b** | 1.000  | cat      | yes | 3|\n",
        "| **c** | 0.500  | dog      | no | 6|\n",
        "| **d** | 3.500  | dog      | yes | 8|\n",
        "| **e** | 5.000  | cat      | no | 4|\n",
        "| **f** | 2.000  | cat      | no | 3|\n",
        "| **g** | 3.500  | dog      | no | 10|\n",
        "| **h** | 2.625  | cat      | yes | 2|\n",
        "| **i** | 7.000  | dog      | no |7|\n",
        "| **j** | 3.000  | dog      | no | 3|"
      ]
    },
    {
      "cell_type": "markdown",
      "metadata": {
        "id": "nnrks-vGjPNO",
        "colab_type": "text"
      },
      "source": [
        "#### 11.2 Implement function weight_to_type(data, labels) which creates a dataframe from dictionary \"data\" with indexes from the list \"labels\", calculates average weight of each animal type and returns dictionary with these values, where keys are animal types and values are animal weights.\n",
        "<div style=\"text-align: right\">DRP reward: 2</div>"
      ]
    },
    {
      "cell_type": "code",
      "metadata": {
        "id": "v5fN_pdbjPNP",
        "colab_type": "code",
        "colab": {}
      },
      "source": [
        "def weight_to_type(data, labels):    \n",
        "    \"\"\"\n",
        "    :param data: dict\n",
        "    :param labels: list[str]\n",
        "    :return: dict\n",
        "    \"\"\"\n",
        "    df = pd.DataFrame(data, index=labels)\n",
        "    dct = {}\n",
        "    dct['cat'] = df[df.animal=='cat'].weight.mean()\n",
        "    dct['dog'] = df[df.animal=='dog'].weight.mean()\n",
        "    return dct"
      ],
      "execution_count": 0,
      "outputs": []
    },
    {
      "cell_type": "code",
      "metadata": {
        "id": "SaHRr_bAsdct",
        "colab_type": "code",
        "outputId": "ca68b76f-7bb7-41f2-8cce-e59461d5f3af",
        "colab": {
          "base_uri": "https://localhost:8080/",
          "height": 34
        }
      },
      "source": [
        "print('weight_to_type', weight_to_type(data, labels))"
      ],
      "execution_count": 0,
      "outputs": [
        {
          "output_type": "stream",
          "text": [
            "weight_to_type {'cat': 2.6, 'dog': 6.8}\n"
          ],
          "name": "stdout"
        }
      ]
    },
    {
      "cell_type": "markdown",
      "metadata": {
        "id": "NBfp6yiEsdcv",
        "colab_type": "text"
      },
      "source": [
        "Expected Output: \n",
        "<table>\n",
        "  <tr>\n",
        "    <td>weight_to_type:</td>\n",
        "    <td> {'cat': 2.6, 'dog': 6.8} </td> \n",
        "  </tr>"
      ]
    },
    {
      "cell_type": "markdown",
      "metadata": {
        "id": "aMRFy0acjPNS",
        "colab_type": "text"
      },
      "source": [
        "#### 11.3  Implement function kittens(data, labels) which creates a dataframe from dictionary \"data\" with indexes from the list \"labels\" and returns dataframe with data about cats with age < 3.\n",
        "<div style=\"text-align: right\">DRP reward: 2</div>"
      ]
    },
    {
      "cell_type": "code",
      "metadata": {
        "id": "iUdq_fcdjPNU",
        "colab_type": "code",
        "colab": {}
      },
      "source": [
        "def kittens(data, labels):    \n",
        "    \"\"\"\n",
        "    :param data: dict\n",
        "    :param labels: list[str]\n",
        "    :return: pandas.core.frame.DataFrame\n",
        "    \"\"\"\n",
        "    df = pd.DataFrame(data, index=labels)\n",
        "    return df[(df.animal=='cat')&(df.age<3)]"
      ],
      "execution_count": 0,
      "outputs": []
    },
    {
      "cell_type": "code",
      "metadata": {
        "id": "yM0tVIKJsdcx",
        "colab_type": "code",
        "outputId": "f21af7b2-3f80-4124-c3ce-617e7ebcc354",
        "colab": {
          "base_uri": "https://localhost:8080/",
          "height": 142
        }
      },
      "source": [
        "kittens(data, labels)"
      ],
      "execution_count": 0,
      "outputs": [
        {
          "output_type": "execute_result",
          "data": {
            "text/html": [
              "<div>\n",
              "<style scoped>\n",
              "    .dataframe tbody tr th:only-of-type {\n",
              "        vertical-align: middle;\n",
              "    }\n",
              "\n",
              "    .dataframe tbody tr th {\n",
              "        vertical-align: top;\n",
              "    }\n",
              "\n",
              "    .dataframe thead th {\n",
              "        text-align: right;\n",
              "    }\n",
              "</style>\n",
              "<table border=\"1\" class=\"dataframe\">\n",
              "  <thead>\n",
              "    <tr style=\"text-align: right;\">\n",
              "      <th></th>\n",
              "      <th>animal</th>\n",
              "      <th>age</th>\n",
              "      <th>weight</th>\n",
              "      <th>priority</th>\n",
              "    </tr>\n",
              "  </thead>\n",
              "  <tbody>\n",
              "    <tr>\n",
              "      <th>a</th>\n",
              "      <td>cat</td>\n",
              "      <td>2.5</td>\n",
              "      <td>1</td>\n",
              "      <td>yes</td>\n",
              "    </tr>\n",
              "    <tr>\n",
              "      <th>b</th>\n",
              "      <td>cat</td>\n",
              "      <td>1.0</td>\n",
              "      <td>3</td>\n",
              "      <td>yes</td>\n",
              "    </tr>\n",
              "    <tr>\n",
              "      <th>f</th>\n",
              "      <td>cat</td>\n",
              "      <td>2.0</td>\n",
              "      <td>3</td>\n",
              "      <td>no</td>\n",
              "    </tr>\n",
              "  </tbody>\n",
              "</table>\n",
              "</div>"
            ],
            "text/plain": [
              "  animal  age  weight priority\n",
              "a    cat  2.5       1      yes\n",
              "b    cat  1.0       3      yes\n",
              "f    cat  2.0       3       no"
            ]
          },
          "metadata": {
            "tags": []
          },
          "execution_count": 258
        }
      ]
    },
    {
      "cell_type": "markdown",
      "metadata": {
        "id": "K-8_bYeRsdcz",
        "colab_type": "text"
      },
      "source": [
        "Expected Output: \n",
        "\n",
        "|  | age | animal                    | priority | weight       | \n",
        "|----|-------------------------|----------|------------|------------------------------------------------|--------------------------------------------------------|--------------|-----------------------|\n",
        "| **a** | 2.5  | cat      | yes | 1|\n",
        "| **b** | 1.0  | cat      | yes | 3|\n",
        "| **f** | 2.0  | cat      | no | 3|"
      ]
    },
    {
      "cell_type": "markdown",
      "metadata": {
        "id": "Mtc079yNjPNZ",
        "colab_type": "text"
      },
      "source": [
        "#### 11.4  Implement function sorted_df(data, labels) which creates a dataframe from dictionary \"data\" with indexes from the list \"labels\" which returns dataframe sorted  firstly by age in a decreasing order, secondly, for the number of weight in ascending order.\n",
        "<div style=\"text-align: right\">DRP reward: 2</div>"
      ]
    },
    {
      "cell_type": "code",
      "metadata": {
        "id": "zaQ4-bqLjPNa",
        "colab_type": "code",
        "colab": {}
      },
      "source": [
        "def sorted_df(data, labels):\n",
        "    \"\"\"\n",
        "    :param data: dict\n",
        "    :param labels: list[str]\n",
        "    :return: pandas.core.frame.DataFrame \n",
        "    \"\"\"\n",
        "    df = pd.DataFrame(data, index=labels)\n",
        "    \n",
        "    return df.sort_values(by=['age','weight'], ascending=[False,True])"
      ],
      "execution_count": 0,
      "outputs": []
    },
    {
      "cell_type": "code",
      "metadata": {
        "id": "frofbFYTsdc2",
        "colab_type": "code",
        "outputId": "008647d0-14bc-4dad-f051-fc4f51a70ef6",
        "colab": {
          "base_uri": "https://localhost:8080/",
          "height": 359
        }
      },
      "source": [
        "sorted_df(data, labels)"
      ],
      "execution_count": 0,
      "outputs": [
        {
          "output_type": "execute_result",
          "data": {
            "text/html": [
              "<div>\n",
              "<style scoped>\n",
              "    .dataframe tbody tr th:only-of-type {\n",
              "        vertical-align: middle;\n",
              "    }\n",
              "\n",
              "    .dataframe tbody tr th {\n",
              "        vertical-align: top;\n",
              "    }\n",
              "\n",
              "    .dataframe thead th {\n",
              "        text-align: right;\n",
              "    }\n",
              "</style>\n",
              "<table border=\"1\" class=\"dataframe\">\n",
              "  <thead>\n",
              "    <tr style=\"text-align: right;\">\n",
              "      <th></th>\n",
              "      <th>animal</th>\n",
              "      <th>age</th>\n",
              "      <th>weight</th>\n",
              "      <th>priority</th>\n",
              "    </tr>\n",
              "  </thead>\n",
              "  <tbody>\n",
              "    <tr>\n",
              "      <th>i</th>\n",
              "      <td>dog</td>\n",
              "      <td>7.0</td>\n",
              "      <td>7</td>\n",
              "      <td>no</td>\n",
              "    </tr>\n",
              "    <tr>\n",
              "      <th>e</th>\n",
              "      <td>cat</td>\n",
              "      <td>5.0</td>\n",
              "      <td>4</td>\n",
              "      <td>no</td>\n",
              "    </tr>\n",
              "    <tr>\n",
              "      <th>g</th>\n",
              "      <td>dog</td>\n",
              "      <td>3.5</td>\n",
              "      <td>10</td>\n",
              "      <td>no</td>\n",
              "    </tr>\n",
              "    <tr>\n",
              "      <th>j</th>\n",
              "      <td>dog</td>\n",
              "      <td>3.0</td>\n",
              "      <td>3</td>\n",
              "      <td>no</td>\n",
              "    </tr>\n",
              "    <tr>\n",
              "      <th>a</th>\n",
              "      <td>cat</td>\n",
              "      <td>2.5</td>\n",
              "      <td>1</td>\n",
              "      <td>yes</td>\n",
              "    </tr>\n",
              "    <tr>\n",
              "      <th>f</th>\n",
              "      <td>cat</td>\n",
              "      <td>2.0</td>\n",
              "      <td>3</td>\n",
              "      <td>no</td>\n",
              "    </tr>\n",
              "    <tr>\n",
              "      <th>b</th>\n",
              "      <td>cat</td>\n",
              "      <td>1.0</td>\n",
              "      <td>3</td>\n",
              "      <td>yes</td>\n",
              "    </tr>\n",
              "    <tr>\n",
              "      <th>c</th>\n",
              "      <td>dog</td>\n",
              "      <td>0.5</td>\n",
              "      <td>6</td>\n",
              "      <td>no</td>\n",
              "    </tr>\n",
              "    <tr>\n",
              "      <th>h</th>\n",
              "      <td>cat</td>\n",
              "      <td>NaN</td>\n",
              "      <td>2</td>\n",
              "      <td>yes</td>\n",
              "    </tr>\n",
              "    <tr>\n",
              "      <th>d</th>\n",
              "      <td>dog</td>\n",
              "      <td>NaN</td>\n",
              "      <td>8</td>\n",
              "      <td>yes</td>\n",
              "    </tr>\n",
              "  </tbody>\n",
              "</table>\n",
              "</div>"
            ],
            "text/plain": [
              "  animal  age  weight priority\n",
              "i    dog  7.0       7       no\n",
              "e    cat  5.0       4       no\n",
              "g    dog  3.5      10       no\n",
              "j    dog  3.0       3       no\n",
              "a    cat  2.5       1      yes\n",
              "f    cat  2.0       3       no\n",
              "b    cat  1.0       3      yes\n",
              "c    dog  0.5       6       no\n",
              "h    cat  NaN       2      yes\n",
              "d    dog  NaN       8      yes"
            ]
          },
          "metadata": {
            "tags": []
          },
          "execution_count": 268
        }
      ]
    },
    {
      "cell_type": "markdown",
      "metadata": {
        "id": "KZwK1kj4sdc3",
        "colab_type": "text"
      },
      "source": [
        "Expected Output: \n",
        "\n",
        "|  | age | animal                    | priority | weight       | \n",
        "|----|-------------------------|----------|------------|------------------------------------------------|--------------------------------------------------------|--------------|-----------------------|\n",
        "| **i** | 7.0  | dog      | no |7|\n",
        "| **e** | 5.0  | cat      | no | 4|\n",
        "| **g** | 3.5  | dog      | no | 10|\n",
        "| **j** | 3.0  | dog      | no | 3|\n",
        "| **a**  | 2.5 | cat      | yes | 1|\n",
        "| **f** | 2.0  | cat      | no | 3|\n",
        "| **b** | 1.0  | cat      | yes | 3|\n",
        "| **c** | 0.5  | dog      | no | 6|\n",
        "| **h** | NaN  | cat      | yes | 2|\n",
        "| **d** | NaN  | dog      | yes | 8|"
      ]
    },
    {
      "cell_type": "markdown",
      "metadata": {
        "id": "mEOcDR0rsdc3",
        "colab_type": "text"
      },
      "source": [
        "## Scipy"
      ]
    },
    {
      "cell_type": "code",
      "metadata": {
        "id": "anC0EGdMsdc4",
        "colab_type": "code",
        "colab": {}
      },
      "source": [
        "import scipy"
      ],
      "execution_count": 0,
      "outputs": []
    },
    {
      "cell_type": "markdown",
      "metadata": {
        "id": "L1mQ9sfijPNc",
        "colab_type": "text"
      },
      "source": [
        "#### 12. The equation of motion for the damped oscillator is:\n",
        "\n",
        "\n",
        "\n",
        "<div style=\"text-align: center\">$\\frac{d^{2}x}{dt^2}+2\\zeta \\omega _{0}\\frac{dx}{dt}+\\omega_ {0}^{2}x = 0$</div>\n",
        "\n",
        "where $x$ is the position of the oscillator, $\\omega_0$ is the frequency, and $\\zeta$ is the damping ratio.\n",
        "\n",
        "To write this second-order ODE on standard form we introduce $p$ = dx/dt:\n",
        "\n",
        "<div style=\"text-align: center\">$\\frac{dp}{dt} = -2\\zeta \\omega _{0}p - \\omega_ {0}^{2}x$</div>\n",
        "\n",
        "<div style=\"text-align: center\">$\\frac{dx}{dt} = p$</div>\n",
        "\n",
        "Implement function undamped() which solves the ODE for undamped oscillation.\n",
        "<div style=\"text-align: right\">DRP reward: 2</div>\n",
        "Return vector of y coordinates, depending on time t."
      ]
    },
    {
      "cell_type": "code",
      "metadata": {
        "id": "ZSUQJoA_jPNd",
        "colab_type": "code",
        "colab": {}
      },
      "source": [
        "def undamped(y0, t):\n",
        "    '''\n",
        "    :param y0: list, initial state \n",
        "    :param t: array, time coodinate to solve the ODE for\n",
        "    :return: numpy.ndarray of shape (10, )\n",
        "    '''\n",
        "    from scipy.integrate import odeint\n",
        "    def dy(y, t, zeta, w0):\n",
        "      \"\"\"\n",
        "      The right-hand side of the damped oscillator ODE\n",
        "      \"\"\"\n",
        "      x, p = y[0], y[1]\n",
        "    \n",
        "      dx = p\n",
        "      dp = -2 * zeta * w0 * p - w0**2 * x\n",
        "\n",
        "      return [dx, dp]\n",
        "    \n",
        "    # frequency:\n",
        "    w0 = 2.0 * np.pi\n",
        "\n",
        "    return odeint(dy, y0, t, args=(0.0, w0))[:,0]\n",
        "    "
      ],
      "execution_count": 0,
      "outputs": []
    },
    {
      "cell_type": "code",
      "metadata": {
        "id": "-bC5Evm6sdc7",
        "colab_type": "code",
        "outputId": "14b7cea3-3df2-4287-d8db-aa21c254debe",
        "colab": {
          "base_uri": "https://localhost:8080/",
          "height": 51
        }
      },
      "source": [
        "y0 = [2.0, 0.0] \n",
        "t = np.linspace(0, 5, 5)\n",
        "\n",
        "print(undamped(y0, t))"
      ],
      "execution_count": 0,
      "outputs": [
        {
          "output_type": "stream",
          "text": [
            "[ 2.00000000e+00  7.49489745e-08 -2.00000012e+00 -1.95362282e-07\n",
            "  2.00000027e+00]\n"
          ],
          "name": "stdout"
        }
      ]
    },
    {
      "cell_type": "markdown",
      "metadata": {
        "id": "xGX5IJuKsdc8",
        "colab_type": "text"
      },
      "source": [
        "Expected Output: \n",
        "<table>\n",
        "  <tr>\n",
        "    <td>undamped:</td>\n",
        "    <td> [  2.00000000e+00   7.49489745e-08  -2.00000012e+00  -1.95362282e-07\n",
        "   2.00000027e+00] </td> \n",
        "  </tr>"
      ]
    }
  ]
}
