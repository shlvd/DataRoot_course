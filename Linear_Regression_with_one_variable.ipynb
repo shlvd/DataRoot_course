{
  "nbformat": 4,
  "nbformat_minor": 0,
  "metadata": {
    "colab": {
      "name": "Linear Regression with one variable.ipynb",
      "provenance": [],
      "collapsed_sections": []
    },
    "kernelspec": {
      "display_name": "Python 3",
      "language": "python",
      "name": "python3"
    }
  },
  "cells": [
    {
      "cell_type": "markdown",
      "metadata": {
        "id": "Zf3lciEqn7-Y",
        "colab_type": "text"
      },
      "source": [
        "# Linear Regression with one variable\n",
        "\n",
        "Welcome to your first lab! You will build a linear regression with one variable.\n",
        "\n",
        "Your first task will be prediction of kengoroo nasal width having its length.\n",
        "\n",
        "**Instructions:**\n",
        "- Do not use loops (for/while) in your code, unless the instructions explicitly ask you to do so.\n",
        "\n",
        "**You will learn to:**\n",
        "- Build the general architecture of a learning algorithm, including:\n",
        "    - Initializing parameters\n",
        "    - Calculating the cost function and its gradient\n",
        "    - Using an optimization algorithm (gradient descent) \n",
        "- Gather all three functions above into a main model function, in the right order."
      ]
    },
    {
      "cell_type": "markdown",
      "metadata": {
        "id": "CYAHd0Gen7-a",
        "colab_type": "text"
      },
      "source": [
        "## 1 - Packages ##\n",
        "\n",
        "First, let's run the cell below to import all the packages that you will need during this assignment. \n",
        "- [numpy](www.numpy.org) is the fundamental package for scientific computing with Python.\n",
        "- [matplotlib](http://matplotlib.org) is a famous library to plot graphs in Python."
      ]
    },
    {
      "cell_type": "code",
      "metadata": {
        "id": "BIosQV9jn7-a",
        "colab_type": "code",
        "colab": {}
      },
      "source": [
        "import numpy as np\n",
        "import matplotlib.pyplot as plt\n",
        "\n",
        "%matplotlib inline"
      ],
      "execution_count": 0,
      "outputs": []
    },
    {
      "cell_type": "markdown",
      "metadata": {
        "id": "O1cQ3hKSn7-e",
        "colab_type": "text"
      },
      "source": [
        "## 2 - Overview of the Problem set ##\n",
        "\n",
        "**Problem Statement**: You are given a dataset  containing:\n",
        "    - a training set of m_train examples\n",
        "    - a test set of m_test examples\n",
        "\n",
        "Let's get more familiar with the dataset. Load the data by running the following code."
      ]
    },
    {
      "cell_type": "code",
      "metadata": {
        "id": "OMj2MqS1n7-e",
        "colab_type": "code",
        "colab": {}
      },
      "source": [
        "# Loading the data\n",
        "\n",
        "def load_data():\n",
        "    from sklearn.model_selection import train_test_split\n",
        "\n",
        "    data = np.genfromtxt('kangaroo.csv', delimiter=',')\n",
        "    \n",
        "    x = data[:, 0]\n",
        "    y = data[:, 1]\n",
        "    \n",
        "    train_set_x, test_set_x, train_set_y, test_set_y = train_test_split(x, y, test_size=0.33, random_state=42)\n",
        "        \n",
        "    return train_set_x, test_set_x, train_set_y, test_set_y\n",
        "\n",
        "train_set_x, test_set_x, train_set_y, test_set_y = load_data()"
      ],
      "execution_count": 0,
      "outputs": []
    },
    {
      "cell_type": "code",
      "metadata": {
        "id": "xm-osSmTn7-g",
        "colab_type": "code",
        "outputId": "2f04e82f-0d43-4f0b-c393-34dbb84fc86e",
        "colab": {
          "base_uri": "https://localhost:8080/",
          "height": 34
        }
      },
      "source": [
        "print (train_set_x.shape, test_set_x.shape, train_set_y.shape, test_set_y.shape)"
      ],
      "execution_count": 0,
      "outputs": [
        {
          "output_type": "stream",
          "text": [
            "(30,) (15,) (30,) (15,)\n"
          ],
          "name": "stdout"
        }
      ]
    },
    {
      "cell_type": "code",
      "metadata": {
        "id": "Vt4yg7o8GCdD",
        "colab_type": "code",
        "outputId": "5e6741e2-4faf-4961-f939-4b8221873aba",
        "colab": {
          "base_uri": "https://localhost:8080/",
          "height": 68
        }
      },
      "source": [
        "train_set_x"
      ],
      "execution_count": 0,
      "outputs": [
        {
          "output_type": "execute_result",
          "data": {
            "text/plain": [
              "array([810., 717., 823., 672., 755., 692., 559., 580., 609., 636., 597.,\n",
              "       493., 616., 740., 629., 763., 838., 620., 677., 864., 629., 778.,\n",
              "       830., 701., 816., 855., 660., 778., 596., 710.])"
            ]
          },
          "metadata": {
            "tags": []
          },
          "execution_count": 24
        }
      ]
    },
    {
      "cell_type": "markdown",
      "metadata": {
        "id": "Z9FpR2-zn7-j",
        "colab_type": "text"
      },
      "source": [
        "Many software bugs in machine learning come from having matrix/vector dimensions that don't fit. If you can keep your matrix/vector dimensions straight you will go a long way toward eliminating many bugs. \n",
        "\n",
        "**Exercise:** Find the values for:\n",
        "    - m_train (number of training examples)\n",
        "    - m_test (number of test examples)\n"
      ]
    },
    {
      "cell_type": "code",
      "metadata": {
        "id": "6QyiYK7Mn7-k",
        "colab_type": "code",
        "outputId": "6708ad2b-fc1d-4549-f8c5-944e30392bc7",
        "colab": {
          "base_uri": "https://localhost:8080/",
          "height": 119
        }
      },
      "source": [
        "### START CODE HERE ### (≈ 2 lines of code)\n",
        "m_train = len(train_set_x)\n",
        "m_test =  len(test_set_x)\n",
        "### END CODE HERE ###\n",
        "\n",
        "print (\"Number of training examples: m_train = \" + str(m_train))\n",
        "print (\"Number of testing examples: m_test = \" + str(m_test))\n",
        "print (\"train_set_x shape: \" + str(train_set_x.shape))\n",
        "print (\"train_set_y shape: \" + str(train_set_y.shape))\n",
        "print (\"test_set_x shape: \" + str(test_set_x.shape))\n",
        "print (\"test_set_y shape: \" + str(test_set_y.shape))"
      ],
      "execution_count": 0,
      "outputs": [
        {
          "output_type": "stream",
          "text": [
            "Number of training examples: m_train = 30\n",
            "Number of testing examples: m_test = 15\n",
            "train_set_x shape: (30,)\n",
            "train_set_y shape: (30,)\n",
            "test_set_x shape: (15,)\n",
            "test_set_y shape: (15,)\n"
          ],
          "name": "stdout"
        }
      ]
    },
    {
      "cell_type": "markdown",
      "metadata": {
        "id": "rGgoXnawn7-l",
        "colab_type": "text"
      },
      "source": [
        "**Expected Output for m_train and m_test**: \n",
        "<table>\n",
        "  <tr>\n",
        "    <td>**m_train**</td>\n",
        "    <td> 30 </td> \n",
        "  </tr>\n",
        "  \n",
        "  <tr>\n",
        "    <td>**m_test**</td>\n",
        "    <td> 15 </td> \n",
        "  </tr>\n",
        "  \n",
        "\n",
        "  \n",
        "</table>"
      ]
    },
    {
      "cell_type": "markdown",
      "metadata": {
        "id": "irg0zNM0n7-m",
        "colab_type": "text"
      },
      "source": [
        "### Data visualization"
      ]
    },
    {
      "cell_type": "code",
      "metadata": {
        "id": "8ehMZXUNn7-m",
        "colab_type": "code",
        "outputId": "1c6d5668-1bbe-4693-e1a9-1f7dcc40eef5",
        "colab": {
          "base_uri": "https://localhost:8080/",
          "height": 465
        }
      },
      "source": [
        "# Training set\n",
        "plt.figure(figsize=(4, 3))\n",
        "plt.scatter(train_set_x, train_set_y)\n",
        "plt.title(\"Training set\")\n",
        "plt.xlabel(\"Length\")\n",
        "plt.ylabel(\"Width\");\n",
        "\n",
        "# Test set\n",
        "plt.figure(figsize=(4, 3))\n",
        "plt.scatter(test_set_x, test_set_y)\n",
        "plt.title(\"Test set\")\n",
        "plt.xlabel(\"Length\")\n",
        "plt.ylabel(\"Width\");"
      ],
      "execution_count": 0,
      "outputs": [
        {
          "output_type": "display_data",
          "data": {
            "image/png": "[encoded data removed]",
            "text/plain": [
              "<Figure size 288x216 with 1 Axes>"
            ]
          },
          "metadata": {
            "tags": []
          }
        },
        {
          "output_type": "display_data",
          "data": {
            "image/png": "[encoded data removed]",
            "text/plain": [
              "<Figure size 288x216 with 1 Axes>"
            ]
          },
          "metadata": {
            "tags": []
          }
        }
      ]
    },
    {
      "cell_type": "markdown",
      "metadata": {
        "id": "LhBfKBk4n7-o",
        "colab_type": "text"
      },
      "source": [
        "### Standardization\n",
        "One common preprocessing step in machine learning is to center and standardize your dataset, meaning that you substract the mean of the whole numpy array from each example, and then divide each example by the standard deviation of the whole numpy array.\n",
        "\n",
        "$$X_{new}= \\frac{X - \\mu}{\\sigma}$$\n",
        "\n",
        "Let's standardize our dataset."
      ]
    },
    {
      "cell_type": "code",
      "metadata": {
        "id": "HDhE37Aan7-p",
        "colab_type": "code",
        "colab": {}
      },
      "source": [
        "mean = np.concatenate([train_set_x,test_set_x]).mean()\n",
        "std = np.concatenate([train_set_x,test_set_x]).std()\n",
        "\n",
        "train_set_x = (train_set_x - mean) / std\n",
        "test_set_x = (test_set_x - mean) / std"
      ],
      "execution_count": 0,
      "outputs": []
    },
    {
      "cell_type": "markdown",
      "metadata": {
        "id": "Bba7Qb52n7-r",
        "colab_type": "text"
      },
      "source": [
        "### Standardized data visualization"
      ]
    },
    {
      "cell_type": "code",
      "metadata": {
        "id": "XRjvqMhjn7-r",
        "colab_type": "code",
        "outputId": "d5d503d1-4531-4a72-8dd8-0c834ee41434",
        "colab": {
          "base_uri": "https://localhost:8080/",
          "height": 465
        }
      },
      "source": [
        "plt.figure(figsize=(4, 3))\n",
        "plt.scatter(train_set_x, train_set_y)\n",
        "plt.title(\"Training set\")\n",
        "plt.xlabel(\"Length\")\n",
        "plt.ylabel(\"Width\");\n",
        "\n",
        "plt.figure(figsize=(4, 3))\n",
        "plt.scatter(test_set_x, test_set_y)\n",
        "plt.title(\"Test set\")\n",
        "plt.xlabel(\"Length\")\n",
        "plt.ylabel(\"Width\");"
      ],
      "execution_count": 0,
      "outputs": [
        {
          "output_type": "display_data",
          "data": {
            "image/png": "[encoded data removed]",
            "text/plain": [
              "<Figure size 288x216 with 1 Axes>"
            ]
          },
          "metadata": {
            "tags": []
          }
        },
        {
          "output_type": "display_data",
          "data": {
            "image/png": "[encoded data removed]",
            "text/plain": [
              "<Figure size 288x216 with 1 Axes>"
            ]
          },
          "metadata": {
            "tags": []
          }
        }
      ]
    },
    {
      "cell_type": "markdown",
      "metadata": {
        "id": "4vrMF9_3n7-w",
        "colab_type": "text"
      },
      "source": [
        "## 3 - General Architecture of the learning algorithm ##\n",
        "\n",
        "**Mathematical expression of the algorithm**:\n",
        "\n",
        "\n",
        "For one example $x^{(i)}$:\n",
        "\n",
        "$$h^{(i)} = \\theta x^{(i)} + b\\tag{1}$$\n",
        "The cost is then computed by summing over all training examples:\n",
        "$$J(\\theta, b) = \\frac{1}{2m}\\sum_{i=1}^{m}(h^{(i)}- y^{(i)})^{2}\\tag{2}$$ \n",
        "\n",
        "**Key steps**:\n",
        "In this exercise, you will carry out the following steps: \n",
        "    - Initialize the parameters of the model\n",
        "    - Learn the parameters for the model by minimizing the cost  \n",
        "    - Use the learned parameters to make predictions (on the test set)\n",
        "    - Analyse the results and conclude"
      ]
    },
    {
      "cell_type": "markdown",
      "metadata": {
        "id": "sTai6oVtn7-w",
        "colab_type": "text"
      },
      "source": [
        "## 4 - Building the parts of our algorithm ## \n",
        "\n",
        "The main steps for building a learning algoritm:\n",
        "1. Define the model structure (such as number of input features) \n",
        "2. Initialize the model's parameters\n",
        "3. Loop:\n",
        "    - Calculate current loss (forward propagation)\n",
        "    - Calculate current gradient (backward propagation)\n",
        "    - Update parameters (gradient descent)\n",
        "\n",
        "You often build 1-3 separately and integrate them into one function we call `model()`."
      ]
    },
    {
      "cell_type": "markdown",
      "metadata": {
        "id": "w5qOAQain7-x",
        "colab_type": "text"
      },
      "source": [
        "### 4.1 - Initializing parameters\n",
        "\n",
        "**Exercise:** Implement parameter initialization in the cell below. You have to initialize \n",
        "$\\theta$ as zero."
      ]
    },
    {
      "cell_type": "code",
      "metadata": {
        "id": "7yEbtj7on7-x",
        "colab_type": "code",
        "colab": {}
      },
      "source": [
        "# GRADED FUNCTION: initialize_with_zeros\n",
        "\n",
        "def initialize_with_zeros():\n",
        "    \"\"\"\n",
        "    This function initializes parameters theta and b as 0.\n",
        "    \n",
        "    Returns:\n",
        "    theta -- initialized scalar parameter\n",
        "    b -- initialized scalar (corresponds to the bias)\n",
        "    \"\"\"\n",
        "    \n",
        "    ### START CODE HERE ### (≈ 2 line of code)\n",
        "    theta = 0\n",
        "    b = 0\n",
        "    ### END CODE HERE ###\n",
        "\n",
        "    assert(isinstance(theta, int))\n",
        "    assert(isinstance(b, int))\n",
        "    \n",
        "    return theta, b"
      ],
      "execution_count": 0,
      "outputs": []
    },
    {
      "cell_type": "code",
      "metadata": {
        "id": "Ld4GufDfn7-z",
        "colab_type": "code",
        "outputId": "f212029f-b4b0-47c1-b036-4d04f6e2609d",
        "colab": {
          "base_uri": "https://localhost:8080/",
          "height": 51
        }
      },
      "source": [
        "theta, b = initialize_with_zeros()\n",
        "print (\"theta = \" + str(theta))\n",
        "print (\"b = \" + str(b))"
      ],
      "execution_count": 0,
      "outputs": [
        {
          "output_type": "stream",
          "text": [
            "theta = 0\n",
            "b = 0\n"
          ],
          "name": "stdout"
        }
      ]
    },
    {
      "cell_type": "markdown",
      "metadata": {
        "id": "Djb2S4Kwn7-1",
        "colab_type": "text"
      },
      "source": [
        "**Expected Output**: \n",
        "\n",
        "\n",
        "<table>\n",
        "    <tr>\n",
        "        <td>  ** theta **  </td>\n",
        "        <td> 0\n",
        "  </td>\n",
        "        </tr>\n",
        "        <tr>\n",
        "            <td>  ** b **  </td>\n",
        "            <td> 0 </td>\n",
        "        </tr>\n",
        "\n",
        "</table>"
      ]
    },
    {
      "cell_type": "markdown",
      "metadata": {
        "id": "GGCNi1s0n7-1",
        "colab_type": "text"
      },
      "source": [
        "### 4.2 - Forward and Backward propagation\n",
        "\n",
        "Now that your parameters are initialized, you can do the \"forward\" and \"backward\" propagation steps for learning the parameters.\n",
        "\n",
        "**Exercise:** Implement a function `propagate()` that computes the cost function and its gradient.\n",
        "\n",
        "**Hints**:\n",
        "\n",
        "Forward Propagation:\n",
        "- You get X\n",
        "- You compute $H = (\\theta X + b) = (h^{(1)}, h^{(2)}, ..., h^{(m-1)}, h^{(m)})$\n",
        "- You calculate the cost function: $J(\\theta, b) = \\frac{1}{2m}\\sum_{i=1}^{m}(h^{(i)} - y^{(i)})^{2}$\n",
        "\n",
        "\n",
        "Here is the formula of gradient of the cost function: \n",
        "\n",
        "$$ \\frac{\\partial J}{\\partial \\theta} = \\frac{1}{m}X(H-Y)^T\\tag{3}$$\n",
        "$$ \\frac{\\partial J}{\\partial b} = \\frac{1}{m} \\sum_{i=1}^m (h^{(i)}-y^{(i)})\\tag{4}$$\n"
      ]
    },
    {
      "cell_type": "code",
      "metadata": {
        "id": "fv3K9lt7n7-2",
        "colab_type": "code",
        "colab": {}
      },
      "source": [
        "def propagate(theta, b, X, Y):\n",
        "    \"\"\"\n",
        "    Implement the cost function and its gradient for the propagation explained above\n",
        "\n",
        "    Arguments:\n",
        "    theta -- parameter, a scalar\n",
        "    b -- bias, a scalar\n",
        "    X -- features vector of size (number of examples, )\n",
        "    Y -- results vector (number of examples, )\n",
        "\n",
        "    Return:\n",
        "    cost -- cost function for linear regression\n",
        "    dt -- gradient of the loss with respect to theta, thus same shape as theta\n",
        "    db -- gradient of the loss with respect to b, thus same shape as b\n",
        "    \n",
        "    Tips:\n",
        "    - Write your code step by step for the propagation.\n",
        "    - Use np.dot() to avoid for-loops in favor of code vectorization\n",
        "    \"\"\"\n",
        "    \n",
        "    m = X.shape[0]\n",
        "    \n",
        "    # FORWARD PROPAGATION (FROM X TO COST)\n",
        "    ### START CODE HERE ### (≈ 2 lines of code)\n",
        "    H = np.dot(theta,X) + b        # compute activation\n",
        "    cost = (1/(2*m))*np.sum((H-Y)**2)      # compute cost\n",
        "    ### END CODE HERE ###\n",
        "\n",
        "    # BACKWARD PROPAGATION (TO FIND GRAD)\n",
        "    ### START CODE HERE ### (≈ 2 lines of code)\n",
        "    dt = (1/m)*np.dot(X,(H-Y).T)\n",
        "    db = (1/m)*np.sum(H-Y)\n",
        "    ### END CODE HERE ###\n",
        "    \n",
        "    assert(dt.dtype == float)\n",
        "    assert(db.dtype == float)\n",
        "    cost = np.squeeze(cost)\n",
        "    assert(cost.shape == ())\n",
        "    \n",
        "    grads = {\"dt\": dt,\n",
        "             \"db\": db}\n",
        "    \n",
        "    return grads, cost"
      ],
      "execution_count": 0,
      "outputs": []
    },
    {
      "cell_type": "code",
      "metadata": {
        "id": "K5Zudl1yn7-5",
        "colab_type": "code",
        "outputId": "484763cb-25f7-4cf2-803d-fb916c8accad",
        "colab": {
          "base_uri": "https://localhost:8080/",
          "height": 68
        }
      },
      "source": [
        "theta, b, X, Y = 1., 2., np.array([0.1, 0.2, 0.3, 0.4, 0.5, 0.6]), np.array([2, 3, 4, 5, 6, 7])\n",
        "grads, cost = propagate(theta, b, X, Y)\n",
        "print (\"dt = \" + str(grads[\"dt\"]))\n",
        "print (\"db = \" + str(grads[\"db\"]))\n",
        "print (\"cost = \" + str(cost))"
      ],
      "execution_count": 0,
      "outputs": [
        {
          "output_type": "stream",
          "text": [
            "dt = -1.015\n",
            "db = -2.15\n",
            "cost = 3.4925\n"
          ],
          "name": "stdout"
        }
      ]
    },
    {
      "cell_type": "markdown",
      "metadata": {
        "id": "Cb6q9bEHn7-8",
        "colab_type": "text"
      },
      "source": [
        "**Expected Output**:\n",
        "\n",
        "<table>\n",
        "    <tr>\n",
        "        <td>  ** dt **  </td>\n",
        "      <td> -1.015 </td>\n",
        "    </tr>\n",
        "    <tr>\n",
        "        <td>  ** db **  </td>\n",
        "        <td> -2.15 </td>\n",
        "    </tr>\n",
        "    <tr>\n",
        "        <td>  ** cost **  </td>\n",
        "        <td> 3.4925 </td>\n",
        "    </tr>\n",
        "\n",
        "</table>"
      ]
    },
    {
      "cell_type": "markdown",
      "metadata": {
        "id": "YGIqE0Jpn7-9",
        "colab_type": "text"
      },
      "source": [
        "### 4.3 - Optimization\n",
        "- You have initialized your parameters.\n",
        "- You are also able to compute a cost function and its gradient.\n",
        "- Now, you want to update the parameters using gradient descent.\n",
        "\n",
        "**Exercise:** Write down the optimization function. The goal is to learn $\\theta$ and $b$ by minimizing the cost function $J$. For a parameter $\\theta$, the update rule is $ \\theta = \\theta - \\alpha \\text{ } \\partial{}J$, where $\\alpha$ is the learning rate."
      ]
    },
    {
      "cell_type": "code",
      "metadata": {
        "id": "YR_M-wiXn7--",
        "colab_type": "code",
        "colab": {}
      },
      "source": [
        "# GRADED FUNCTION: optimize\n",
        "\n",
        "def optimize(theta, b, X, Y, num_iterations, learning_rate, print_cost=False):\n",
        "    \"\"\"\n",
        "    This function optimizes theta and b by running a gradient descent algorithm\n",
        "    \n",
        "    Arguments:\n",
        "    theta -- parameter, a scalar\n",
        "    b -- bias, a scalar\n",
        "    X -- features vector of shape (number of examples, )\n",
        "    Y -- results vector of shape (number of examples, )\n",
        "    num_iterations -- number of iterations of the optimization loop\n",
        "    learning_rate -- learning rate of the gradient descent update rule\n",
        "    print_cost -- True to print the loss every 100 steps\n",
        "    \n",
        "    Returns:\n",
        "    params -- dictionary containing the weights theta and bias b\n",
        "    grads -- dictionary containing the gradients of the weights and bias with respect to the cost function\n",
        "    costs -- list of all the costs computed during the optimization, this will be used to plot the learning curve.\n",
        "    \n",
        "    Tips:\n",
        "    You basically need to write down two steps and iterate through them:\n",
        "        1) Calculate the cost and the gradient for the current parameters. Use propagate().\n",
        "        2) Update the parameters using gradient descent rule for theta and b.\n",
        "    \"\"\"\n",
        "    \n",
        "    costs = []\n",
        "    \n",
        "    for i in range(num_iterations):\n",
        "        \n",
        "        \n",
        "        # Cost and gradient calculation (≈ 1 line of code)\n",
        "        ### START CODE HERE ### \n",
        "        grads, cost = propagate(theta, b, X, Y)\n",
        "        ### END CODE HERE ###\n",
        "\n",
        "        # Retrieve derivatives from grads\n",
        "        dt = grads[\"dt\"]\n",
        "        db = grads[\"db\"]\n",
        "        \n",
        "        # update rule (≈ 2 lines of code)\n",
        "        ### START CODE HERE ###\n",
        "        theta = theta - learning_rate*dt\n",
        "        b = b - learning_rate*db\n",
        "        ### END CODE HERE ###\n",
        "        \n",
        "        # Record the costs\n",
        "        if i % 100 == 0:\n",
        "            costs.append(cost)\n",
        "        \n",
        "        # Print the cost every 100 training iterations\n",
        "        if print_cost and i % 100 == 0:\n",
        "            print (\"Cost after iteration %i: %f\" %(i, cost))\n",
        "    \n",
        "    params = {\"theta\": theta,\n",
        "              \"b\": b}\n",
        "    \n",
        "    grads = {\"dt\": dt,\n",
        "             \"db\": db}\n",
        "    \n",
        "    return params, grads, costs"
      ],
      "execution_count": 0,
      "outputs": []
    },
    {
      "cell_type": "code",
      "metadata": {
        "id": "-vcWkBHKn7_A",
        "colab_type": "code",
        "outputId": "118bfd3d-b74c-4157-adf1-bb9e9e7d07d2",
        "colab": {
          "base_uri": "https://localhost:8080/",
          "height": 85
        }
      },
      "source": [
        "params, grads, costs = optimize(theta, b, X, Y, num_iterations=100, learning_rate=0.009, print_cost=False)\n",
        "print (\"theta = \" + str(params[\"theta\"]))\n",
        "print (\"b = \" + str(params[\"b\"]))\n",
        "print (\"dt = \" + str(grads[\"dt\"]))\n",
        "print (\"db = \" + str(grads[\"db\"]))"
      ],
      "execution_count": 0,
      "outputs": [
        {
          "output_type": "stream",
          "text": [
            "theta = 1.6451645666550938\n",
            "b = 3.1951480476314393\n",
            "dt = -0.5018556276988992\n",
            "db = -0.7372605441640054\n"
          ],
          "name": "stdout"
        }
      ]
    },
    {
      "cell_type": "markdown",
      "metadata": {
        "id": "DlEL9EcMn7_C",
        "colab_type": "text"
      },
      "source": [
        "**Expected Output**: \n",
        "\n",
        "<table>\n",
        "    <tr>\n",
        "       <td> **theta** </td>\n",
        "       <td>  1.6451645666550938 </td>\n",
        "    </tr>\n",
        "    <tr>\n",
        "       <td> **b** </td>\n",
        "       <td> 3.1951480476314393 </td>\n",
        "    </tr>\n",
        "    <tr>\n",
        "       <td> **dt** </td>\n",
        "       <td> -0.5018556276988992 </td>\n",
        "    </tr>\n",
        "    <tr>\n",
        "       <td> **db** </td>\n",
        "       <td> -0.7372605441640054 </td>\n",
        "    </tr>\n",
        "</table>"
      ]
    },
    {
      "cell_type": "markdown",
      "metadata": {
        "id": "Q0MXWhvpn7_C",
        "colab_type": "text"
      },
      "source": [
        "**Exercise:** The previous function will output the learned $\\theta$ and $b$. We are able to use $\\theta$ and $b$ to predict the labels for a dataset X. Implement the `predict()` function. It must calculate $H = \\theta X + b$.\n"
      ]
    },
    {
      "cell_type": "code",
      "metadata": {
        "id": "yXUKoHwhn7_D",
        "colab_type": "code",
        "colab": {}
      },
      "source": [
        "# GRADED FUNCTION: predict\n",
        "\n",
        "def predict(theta, b, X):\n",
        "    \"\"\"\n",
        "    Predict using learned linear regression parameters (theta, b)\n",
        "    \n",
        "    Arguments:\n",
        "    theta -- parameter, a scalar\n",
        "    b -- bias, a scalar\n",
        "    X -- features vector of size (number of examples, )\n",
        "    \n",
        "    Returns:\n",
        "    Y_prediction -- a numpy array (vector) containing all predictions for the examples in X\n",
        "    \"\"\"\n",
        "    \n",
        "    # Compute vector \"Y_prediction\" predicting the width of a kangoroo nasal\n",
        "    ### START CODE HERE ### (≈ 1 line of code)\n",
        "    Y_prediction = np.dot(theta,X) + b\n",
        "    ### END CODE HERE ###\n",
        "    \n",
        "    return Y_prediction"
      ],
      "execution_count": 0,
      "outputs": []
    },
    {
      "cell_type": "code",
      "metadata": {
        "id": "DL05357Qn7_E",
        "colab_type": "code",
        "outputId": "840ee2b5-a3a9-4273-dec6-6422bd457fe7",
        "colab": {
          "base_uri": "https://localhost:8080/",
          "height": 34
        }
      },
      "source": [
        "theta = 0.1124579\n",
        "b = -0.3\n",
        "X = np.array([1., -1.1, -3.2, 1.2, 2., 0.1])\n",
        "print (\"predictions = \" + str(predict(theta, b, X)))"
      ],
      "execution_count": 0,
      "outputs": [
        {
          "output_type": "stream",
          "text": [
            "predictions = [-0.1875421  -0.42370369 -0.65986528 -0.16505052 -0.0750842  -0.28875421]\n"
          ],
          "name": "stdout"
        }
      ]
    },
    {
      "cell_type": "markdown",
      "metadata": {
        "id": "G_zp8Fz1n7_G",
        "colab_type": "text"
      },
      "source": [
        "**Expected Output**: \n",
        "\n",
        "<table>\n",
        "    <tr>\n",
        "         <td>\n",
        "             **predictions**\n",
        "         </td>\n",
        "          <td>\n",
        "            [-0.1875421  -0.42370369 -0.65986528 -0.16505052 -0.0750842  -0.28875421]\n",
        "         </td>  \n",
        "   </tr>\n",
        "\n",
        "</table>\n"
      ]
    },
    {
      "cell_type": "markdown",
      "metadata": {
        "id": "k1AhH_L2n7_G",
        "colab_type": "text"
      },
      "source": [
        "<font color='green'>\n",
        "**What to remember:**\n",
        "You've implemented several functions that:\n",
        "- Initialize (theta,b)\n",
        "- Optimize the loss iteratively to learn parameters (theta,b):\n",
        "    - computing the cost and its gradient \n",
        "    - updating the parameters using gradient descent\n",
        "- Use the learned (theta,b) to predict the value for a given set of examples"
      ]
    },
    {
      "cell_type": "markdown",
      "metadata": {
        "id": "lLeEhD1_n7_H",
        "colab_type": "text"
      },
      "source": [
        "## 5 - Merge all functions into a model ##\n",
        "\n",
        "You will now see how the overall model is structured by putting together all the building blocks (functions implemented in the previous parts) together, in the right order.\n",
        "\n",
        "**Exercise:** \n",
        "\n",
        "Implement the model function. Use the following notation:\n",
        "    - Y_prediction_test for your predictions on the test set\n",
        "    - Y_prediction_train for your predictions on the train set\n",
        "    - theta, costs, grads for the outputs of optimize()"
      ]
    },
    {
      "cell_type": "code",
      "metadata": {
        "id": "UU1SpM-zn7_I",
        "colab_type": "code",
        "colab": {}
      },
      "source": [
        "# GRADED FUNCTION: model\n",
        "\n",
        "def model(X_train, Y_train, X_test, Y_test, num_iterations=2000, learning_rate=0.5, print_cost=False):\n",
        "    \"\"\"\n",
        "    Builds the linear regression model by calling the function you've implemented previously\n",
        "    \n",
        "    Arguments:\n",
        "    X_train -- training set represented by a numpy array of shape (m_train, )\n",
        "    Y_train -- training values represented by a numpy array (vector) of shape (m_train, )\n",
        "    X_test -- test set represented by a numpy array of shape (m_test, )\n",
        "    Y_test -- test values represented by a numpy array (vector) of shape (m_test, )\n",
        "    num_iterations -- hyperparameter representing the number of iterations to optimize the parameters\n",
        "    learning_rate -- hyperparameter representing the learning rate used in the update rule of optimize()\n",
        "    print_cost -- Set to true to print the cost every 100 iterations\n",
        "    \n",
        "    Returns:\n",
        "    d -- dictionary containing information about the model.\n",
        "    \"\"\"\n",
        "    \n",
        "    ### START CODE HERE ###\n",
        "    \n",
        "    # initialize parameters with zeros (≈ 1 line of code)\n",
        "    theta, b = initialize_with_zeros()\n",
        "\n",
        "    # Gradient descent (≈ 1 line of code)\n",
        "    parameters, grads, costs = optimize(theta, b, X_train, Y_train, num_iterations, learning_rate, print_cost)\n",
        "    \n",
        "    # Retrieve parameters w and b from dictionary \"parameters\"\n",
        "    theta = parameters[\"theta\"]\n",
        "    b = parameters[\"b\"]\n",
        "    \n",
        "    # Predict test/train set examples (≈ 2 lines of code)\n",
        "    Y_prediction_test = predict(theta, b, X_test)\n",
        "    Y_prediction_train = predict(theta, b, X_train)\n",
        "\n",
        "    ### END CODE HERE ###\n",
        "\n",
        "    # Print train/test Errors\n",
        "    print (\"Train RMSE: {} \".format(np.sqrt(np.mean((Y_prediction_train - Y_train) ** 2))))\n",
        "    print (\"Test RMSE: {} \".format(np.sqrt(np.mean((Y_prediction_test - Y_test) ** 2))))\n",
        "    \n",
        "    d = {\"costs\": costs,\n",
        "         \"Y_prediction_test\": Y_prediction_test, \n",
        "         \"Y_prediction_train\" : Y_prediction_train, \n",
        "         \"theta\" : theta, \n",
        "         \"b\" : b,\n",
        "         \"learning_rate\" : learning_rate,\n",
        "         \"num_iterations\": num_iterations}\n",
        "    \n",
        "    return d"
      ],
      "execution_count": 0,
      "outputs": []
    },
    {
      "cell_type": "code",
      "metadata": {
        "id": "fD31EzjLn7_J",
        "colab_type": "code",
        "outputId": "39027443-0694-4352-e53d-d58f23ec85d0",
        "colab": {
          "base_uri": "https://localhost:8080/",
          "height": 136
        }
      },
      "source": [
        "d = model(train_set_x, train_set_y, test_set_x, test_set_y, num_iterations=500, learning_rate=0.05, print_cost=True)"
      ],
      "execution_count": 0,
      "outputs": [
        {
          "output_type": "stream",
          "text": [
            "Cost after iteration 0: 30753.266667\n",
            "Cost after iteration 100: 89.390351\n",
            "Cost after iteration 200: 87.787635\n",
            "Cost after iteration 300: 87.787489\n",
            "Cost after iteration 400: 87.787489\n",
            "Train RMSE: 13.250470884220235 \n",
            "Test RMSE: 16.20421532059726 \n"
          ],
          "name": "stdout"
        }
      ]
    },
    {
      "cell_type": "markdown",
      "metadata": {
        "id": "fl84LOXRn7_L",
        "colab_type": "text"
      },
      "source": [
        "**Expected Output**: \n",
        "\n",
        "<table> \n",
        "    <tr>\n",
        "        <td> **Cost after iteration 0 **  </td> \n",
        "        <td> 30753.266667 </td>\n",
        "    </tr>\n",
        "      <tr>\n",
        "        <td> <center> $\\vdots$ </center> </td> \n",
        "        <td> <center> $\\vdots$ </center> </td> \n",
        "    </tr>  \n",
        "    <tr>\n",
        "        <td> **Train RMSE**  </td> \n",
        "        <td> 13.25047088422024 </td>\n",
        "    </tr>\n",
        "    <tr>\n",
        "        <td>**Test RMSE** </td> \n",
        "        <td> 16.20421532059726 </td>\n",
        "    </tr>\n",
        "</table> "
      ]
    },
    {
      "cell_type": "markdown",
      "metadata": {
        "id": "s0wQzIPIn7_L",
        "colab_type": "text"
      },
      "source": [
        "### Les't check the result"
      ]
    },
    {
      "cell_type": "code",
      "metadata": {
        "id": "jN19yAxrn7_N",
        "colab_type": "code",
        "outputId": "63a115b0-ae04-4a90-bf5a-3e513b09b287",
        "colab": {
          "base_uri": "https://localhost:8080/",
          "height": 433
        }
      },
      "source": [
        "# Training set\n",
        "plt.figure(figsize=(4, 3))\n",
        "plt.title(\"Training set\")\n",
        "\n",
        "plt.scatter(train_set_x, train_set_y)\n",
        "x = np.array([min(train_set_x), max(train_set_x)])\n",
        "theta = d[\"theta\"]\n",
        "b = d[\"b\"]\n",
        "y = theta * x + b\n",
        "plt.plot(x, y)  \n",
        "plt.axis(\"tight\")\n",
        "plt.xlabel(\"Length\")\n",
        "plt.ylabel(\"Width\");\n",
        "plt.tight_layout()\n",
        "\n",
        "\n",
        "# Test set\n",
        "plt.figure(figsize=(4, 3))\n",
        "plt.title(\"Test set\")\n",
        "\n",
        "plt.scatter(test_set_x, test_set_y)\n",
        "x = np.array([min(test_set_x), max(test_set_x)])\n",
        "theta = d[\"theta\"]\n",
        "b = d[\"b\"]\n",
        "y = theta * x + b\n",
        "plt.plot(x, y)  \n",
        "plt.axis(\"tight\")\n",
        "plt.xlabel(\"Length\")\n",
        "plt.ylabel(\"Width\");\n",
        "plt.tight_layout()"
      ],
      "execution_count": 0,
      "outputs": [
        {
          "output_type": "display_data",
          "data": {
            "image/png": "[encoded data removed]",
            "text/plain": [
              "<Figure size 288x216 with 1 Axes>"
            ]
          },
          "metadata": {
            "tags": []
          }
        },
        {
          "output_type": "display_data",
          "data": {
            "image/png": "[encoded data removed]",
            "text/plain": [
              "<Figure size 288x216 with 1 Axes>"
            ]
          },
          "metadata": {
            "tags": []
          }
        }
      ]
    }
  ]
}