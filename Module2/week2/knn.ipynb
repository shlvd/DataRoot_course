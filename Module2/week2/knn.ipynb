{
  "nbformat": 4,
  "nbformat_minor": 0,
  "metadata": {
    "colab": {
      "name": "knn.ipynb",
      "provenance": []
    },
    "kernelspec": {
      "name": "python3",
      "display_name": "Python 3"
    }
  },
  "cells": [
    {
      "cell_type": "code",
      "metadata": {
        "id": "PwOzKQgqTOt9",
        "colab_type": "code",
        "colab": {}
      },
      "source": [
        "# import libraries\n",
        "import numpy as np\n",
        "import pandas as pd\n",
        "import matplotlib.pyplot as plt\n",
        "%matplotlib inline\n",
        "from sklearn.model_selection import KFold\n",
        "\n",
        "class KNN:\n",
        "    def __init__(self, features, labels, k=3):\n",
        "        self.features = np.array(features)\n",
        "        self.labels = np.array(labels)\n",
        "        self.k = k\n",
        "        \n",
        "    def _classify(self, x):\n",
        "        # Calculate x's Euclidean distance from all other samples\n",
        "        diff_squared = (self.features - x) ** 2\n",
        "        euclidean_distances = np.sqrt(diff_squared.sum(axis=1))\n",
        "        \n",
        "        # Sort index of distances --- nearest sample's index is the first element, next nearest sample's index is the second, etc.\n",
        "        # We only keep the first 'K' ones\n",
        "        sorted_dist_indices = euclidean_distances.argsort()[:self.k]\n",
        "                \n",
        "        # Count the number of classes for K nearest neighbors\n",
        "        class_count = {}\n",
        "        for i in sorted_dist_indices:\n",
        "            vote_label = self.labels[i]\n",
        "            class_count[vote_label] = class_count.get(vote_label, 0) + 1\n",
        "            \n",
        "        # Descending sort the resulting dictionary by class counts\n",
        "        sorted_class_count = sorted(class_count.items(),\n",
        "                                   key=lambda kv: (kv[1], kv[0]),\n",
        "                                   reverse=True)\n",
        "        \n",
        "        # Return the first key in the dictionary which is the predicted label\n",
        "        return sorted_class_count[0][0]\n",
        "    \n",
        "    \n",
        "    def predict(self, test_set):\n",
        "        predictions = []\n",
        "        # Loop through all samples, predict the class labels and store the results\n",
        "        for sample in test_set:\n",
        "            predictions.append(self._classify(sample))\n",
        "        \n",
        "        return np.array(predictions)\n",
        "    \n",
        "    \n",
        "    def accuracy(self, actual, preds):\n",
        "        total = len(actual)\n",
        "        \n",
        "        # Calculate the number of misclassified predictions\n",
        "        misclassified = sum(actual != preds)\n",
        "\n",
        "        return (total - misclassified) / total   "
      ],
      "execution_count": 0,
      "outputs": []
    },
    {
      "cell_type": "code",
      "metadata": {
        "id": "NDLim5YVUb-V",
        "colab_type": "code",
        "colab": {}
      },
      "source": [
        "# function that loads data\n",
        "def load_data():\n",
        "    data = pd.read_csv('https://archive.ics.uci.edu/ml/machine-learning-databases/iris/iris.data', header = None, encoding='utf-8')\n",
        "    # the shape of this array is [150, 4] where columns are [sepal length in cm, sepal width in cm, petal length in cm, petal width in cm]\n",
        "    X = data.iloc[:, :-1].values\n",
        "    # the shape of this array is [150,] where classes are [Iris-Setosa, Iris-Versicolour, Iris-Virginica]\n",
        "    y = data.iloc[:, -1].values\n",
        "    return X, y"
      ],
      "execution_count": 0,
      "outputs": []
    },
    {
      "cell_type": "code",
      "metadata": {
        "id": "F2BzLKCVTxks",
        "colab_type": "code",
        "colab": {}
      },
      "source": [
        "# this function returns test accuracy of each fold and mean accuracy\n",
        "def knn_iris(k):\n",
        "    #load data\n",
        "    X, y = load_data()\n",
        "    #create kfold object\n",
        "    kf = KFold(n_splits=10, shuffle=True, random_state=55)\n",
        "    #list to store accuracy of each fold\n",
        "    scores = []\n",
        "    # split dataset and loop through\n",
        "    for train, test in kf.split(X):\n",
        "        #create custom knn, k we pass as an argument to knn_iris\n",
        "        knn = KNN(X[train], y[train], k)\n",
        "        # predict classes for test set\n",
        "        y_pred = knn.predict(X[test])\n",
        "        #get test accuracy\n",
        "        score = knn.accuracy(y[test], y_pred)\n",
        "        # store it in scores list\n",
        "        scores.append(score)\n",
        "    return scores, np.array(scores).mean()"
      ],
      "execution_count": 0,
      "outputs": []
    },
    {
      "cell_type": "code",
      "metadata": {
        "id": "DY6yCcEvVnH_",
        "colab_type": "code",
        "colab": {
          "base_uri": "https://localhost:8080/",
          "height": 340
        },
        "outputId": "2ec66a77-965e-4031-93a6-3e59286a11f5"
      },
      "source": [
        "accuracy = []\n",
        "# print test accuracy for given number of nearest neighbors\n",
        "for i in range(1, 20):\n",
        "    # get mean accuracy\n",
        "    acc = knn_iris(i)[1]\n",
        "    accuracy.append(acc)\n",
        "    print(f\"k= {i} test accuracy = {acc}\")"
      ],
      "execution_count": 60,
      "outputs": [
        {
          "output_type": "stream",
          "text": [
            "k= 1 test accuracy = 0.96\n",
            "k= 2 test accuracy = 0.9533333333333334\n",
            "k= 3 test accuracy = 0.96\n",
            "k= 4 test accuracy = 0.96\n",
            "k= 5 test accuracy = 0.96\n",
            "k= 6 test accuracy = 0.9666666666666668\n",
            "k= 7 test accuracy = 0.9666666666666668\n",
            "k= 8 test accuracy = 0.9666666666666668\n",
            "k= 9 test accuracy = 0.96\n",
            "k= 10 test accuracy = 0.96\n",
            "k= 11 test accuracy = 0.96\n",
            "k= 12 test accuracy = 0.96\n",
            "k= 13 test accuracy = 0.96\n",
            "k= 14 test accuracy = 0.96\n",
            "k= 15 test accuracy = 0.96\n",
            "k= 16 test accuracy = 0.96\n",
            "k= 17 test accuracy = 0.9666666666666666\n",
            "k= 18 test accuracy = 0.96\n",
            "k= 19 test accuracy = 0.96\n"
          ],
          "name": "stdout"
        }
      ]
    },
    {
      "cell_type": "code",
      "metadata": {
        "id": "TUnAHDxFV_oL",
        "colab_type": "code",
        "colab": {
          "base_uri": "https://localhost:8080/",
          "height": 404
        },
        "outputId": "09256bfb-2351-4465-97a3-7fb987cc0416"
      },
      "source": [
        "#plot test accuracy vs. number of nearest neighbors\n",
        "plt.figure(figsize=(12, 6))\n",
        "plt.plot(range(1, 20), accuracy, color='blue', linestyle=':', marker='X',\n",
        "         markerfacecolor='red', markersize=10)\n",
        "plt.title('Test accuracy')\n",
        "plt.xlabel('number of nearest neighbors')\n",
        "plt.ylabel('Accuracy');"
      ],
      "execution_count": 64,
      "outputs": [
        {
          "output_type": "display_data",
          "data": {
            "image/png": "[encoded data removed]",
            "text/plain": [
              "<Figure size 864x432 with 1 Axes>"
            ]
          },
          "metadata": {
            "tags": [],
            "needs_background": "light"
          }
        }
      ]
    }
  ]
}